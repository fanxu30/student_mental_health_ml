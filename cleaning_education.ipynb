{
 "cells": [
  {
   "cell_type": "code",
   "execution_count": 18,
   "metadata": {},
   "outputs": [],
   "source": [
    "import os\n",
    "import json\n",
    "import pandas as pd\n",
    "from datetime import datetime, timezone"
   ]
  },
  {
   "cell_type": "markdown",
   "metadata": {},
   "source": [
    "# Deadlines"
   ]
  },
  {
   "cell_type": "code",
   "execution_count": 19,
   "metadata": {},
   "outputs": [],
   "source": [
    "# Main Path\n",
    "deadlines = pd.read_csv(f\"./raw_data/education/deadlines.csv\")\n",
    "# print(deadlines.head())\n",
    "\n",
    "# Convert date columns to datetime\n",
    "deadlines = deadlines.set_index(\"uid\")  # Set 'uid' as index\n",
    "deadlines.columns = pd.to_datetime(\n",
    "    deadlines.columns\n",
    ")  # Convert date strings to datetime"
   ]
  },
  {
   "cell_type": "code",
   "execution_count": 20,
   "metadata": {},
   "outputs": [],
   "source": [
    "# Sum deadlines per month using 'ME' instead of 'M'\n",
    "monthly_deadlines = (\n",
    "    deadlines.T.resample(\"ME\").sum().T\n",
    ")  # Transpose, resample, transpose back\n",
    "monthly_deadlines.to_csv(\n",
    "    \"./cleaned_data/education/deadlines_weekly.csv\"\n",
    ")  # Save to file"
   ]
  },
  {
   "cell_type": "code",
   "execution_count": 21,
   "metadata": {},
   "outputs": [],
   "source": [
    "# Sum deadlines per week (ISO week)\n",
    "weekly_deadlines = (\n",
    "    deadlines.T.resample(\"W\").sum().T\n",
    ")  # Transpose, resample, transpose back\n",
    "weekly_deadlines.to_csv(\n",
    "    \"./cleaned_data/education/deadlines_monthly.csv\"\n",
    ")  # Save to file"
   ]
  },
  {
   "cell_type": "markdown",
   "metadata": {},
   "source": [
    "# Grades"
   ]
  },
  {
   "cell_type": "code",
   "execution_count": 22,
   "metadata": {},
   "outputs": [
    {
     "name": "stdout",
     "output_type": "stream",
     "text": [
      "\n",
      "Cleaned Data:\n",
      "   uid  gpa all   gpa 13s  cs 65\n",
      "0  u01    2.863  1.777778    3.0\n",
      "1  u02    3.505  4.000000    4.0\n",
      "2  u04    3.029  3.500000    4.0\n",
      "3  u05    3.679  3.777778    4.0\n",
      "4  u07    3.474  4.000000    4.0\n"
     ]
    }
   ],
   "source": [
    "# Main Path\n",
    "grades = pd.read_csv(f\"./raw_data/education/grades.csv\")\n",
    "\n",
    "# Strip unwanted whitespaces\n",
    "grades.columns = grades.columns.str.strip()\n",
    "\n",
    "# Convert columns to appropriate data types\n",
    "grades[\"gpa all\"] = pd.to_numeric(grades[\"gpa all\"], errors=\"coerce\")\n",
    "grades[\"gpa 13s\"] = pd.to_numeric(grades[\"gpa 13s\"], errors=\"coerce\")\n",
    "grades[\"cs 65\"] = pd.to_numeric(grades[\"cs 65\"], errors=\"coerce\")\n",
    "\n",
    "# Display cleaned data\n",
    "print(\"\\nCleaned Data:\")\n",
    "print(grades.head())\n",
    "\n",
    "# Convert to a CSV file\n",
    "grades.to_csv(\"./cleaned_data/education/grades.csv\", index=False)"
   ]
  }
 ],
 "metadata": {
  "kernelspec": {
   "display_name": "Python 3",
   "language": "python",
   "name": "python3"
  },
  "language_info": {
   "codemirror_mode": {
    "name": "ipython",
    "version": 3
   },
   "file_extension": ".py",
   "mimetype": "text/x-python",
   "name": "python",
   "nbconvert_exporter": "python",
   "pygments_lexer": "ipython3",
   "version": "3.12.7"
  }
 },
 "nbformat": 4,
 "nbformat_minor": 2
}
