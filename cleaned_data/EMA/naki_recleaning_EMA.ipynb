{
 "cells": [
  {
   "cell_type": "code",
   "execution_count": 1,
   "id": "5506c910",
   "metadata": {},
   "outputs": [],
   "source": [
    "import os\n",
    "import pandas as pd\n",
    "from datetime import timezone"
   ]
  },
  {
   "cell_type": "code",
   "execution_count": 2,
   "id": "456e8004",
   "metadata": {},
   "outputs": [],
   "source": [
    "df_behaviour = pd.read_csv(\"./Behavior.csv\")\n",
    "df_class = pd.read_csv(\"./Class.csv\")\n",
    "df_events = pd.read_csv(\"./Events.csv\")\n",
    "df_exercise = pd.read_csv(\"./Exercise.csv\")\n",
    "df_mood = pd.read_csv(\"./Mood.csv\")\n",
    "df_sleep = pd.read_csv(\"./Sleep.csv\")\n",
    "df_social = pd.read_csv(\"./Social.csv\")\n",
    "df_stress = pd.read_csv(\"./Stress.csv\")"
   ]
  },
  {
   "cell_type": "code",
   "execution_count": 3,
   "id": "e967f000",
   "metadata": {},
   "outputs": [],
   "source": [
    "# Convert resp_time to datetime (UTC), handling invalid/missing values gracefully\n",
    "df_behaviour[\"datetime_utc\"] = pd.to_datetime(\n",
    "    df_behaviour[\"resp_time\"], unit=\"s\", errors=\"coerce\"\n",
    ").dt.tz_localize(\"UTC\")\n",
    "\n",
    "# Sort by user_id and datetime\n",
    "df_behaviour = df_behaviour.sort_values(by=[\"user_id\", \"datetime_utc\"])\n",
    "\n",
    "# Save to CSV\n",
    "df_behaviour.to_csv(\"./Behaviour_new.csv\", index=False)"
   ]
  },
  {
   "cell_type": "code",
   "execution_count": 4,
   "id": "2433d30b",
   "metadata": {},
   "outputs": [],
   "source": [
    "# Convert resp_time to datetime (UTC), handling invalid/missing values gracefully\n",
    "df_class[\"datetime_utc\"] = pd.to_datetime(\n",
    "    df_class[\"resp_time\"], unit=\"s\", errors=\"coerce\"\n",
    ").dt.tz_localize(\"UTC\")\n",
    "\n",
    "# Sort by user_id and datetime\n",
    "df_class = df_class.sort_values(by=[\"user_id\", \"datetime_utc\"])\n",
    "\n",
    "# Save to CSV\n",
    "df_class.to_csv(\"./Class_new.csv\", index=False)"
   ]
  },
  {
   "cell_type": "code",
   "execution_count": 5,
   "id": "2184fbc6",
   "metadata": {},
   "outputs": [],
   "source": [
    "# Convert resp_time to datetime (UTC), handling invalid/missing values gracefully\n",
    "df_mood[\"datetime_utc\"] = pd.to_datetime(\n",
    "    df_mood[\"resp_time\"], unit=\"s\", errors=\"coerce\"\n",
    ").dt.tz_localize(\"UTC\")\n",
    "\n",
    "# Sort by user_id and datetime\n",
    "df_mood = df_mood.sort_values(by=[\"user_id\", \"datetime_utc\"])\n",
    "\n",
    "# Save to CSV\n",
    "df_mood.to_csv(\"./Mood_new.csv\", index=False)"
   ]
  },
  {
   "cell_type": "code",
   "execution_count": 6,
   "id": "9d776cad",
   "metadata": {},
   "outputs": [],
   "source": [
    "# Convert resp_time to datetime (UTC), handling invalid/missing values gracefully\n",
    "df_stress[\"datetime_utc\"] = pd.to_datetime(\n",
    "    df_stress[\"resp_time\"], unit=\"s\", errors=\"coerce\"\n",
    ").dt.tz_localize(\"UTC\")\n",
    "\n",
    "# Sort by user_id and datetime\n",
    "df_stress = df_stress.sort_values(by=[\"user_id\", \"datetime_utc\"])\n",
    "\n",
    "# Save to CSV\n",
    "df_stress.to_csv(\"./Stress_new.csv\", index=False)"
   ]
  }
 ],
 "metadata": {
  "kernelspec": {
   "display_name": "Python 3",
   "language": "python",
   "name": "python3"
  },
  "language_info": {
   "codemirror_mode": {
    "name": "ipython",
    "version": 3
   },
   "file_extension": ".py",
   "mimetype": "text/x-python",
   "name": "python",
   "nbconvert_exporter": "python",
   "pygments_lexer": "ipython3",
   "version": "3.12.7"
  }
 },
 "nbformat": 4,
 "nbformat_minor": 5
}
