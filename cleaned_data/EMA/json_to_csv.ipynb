{
 "cells": [
  {
   "cell_type": "code",
   "execution_count": 5,
   "id": "65cf67f2",
   "metadata": {},
   "outputs": [],
   "source": [
    "import json\n",
    "import csv\n",
    "import os\n",
    "\n",
    "\n",
    "def agg_json(directory, header_list):\n",
    "    with open(f\"{directory}.csv\", \"w\", newline=\"\") as csv_file:\n",
    "        # Create a CSV writer object\n",
    "        writer = csv.writer(csv_file)\n",
    "\n",
    "        # Write the header row\n",
    "        writer.writerow(header_list)\n",
    "\n",
    "        # Iterate through each file in the directory\n",
    "        for file in os.listdir(f\"../../raw_data/EMA/response/{directory}\"):\n",
    "            with open(f\"../../raw_data/EMA/response/{directory}/{file}\") as json_file:\n",
    "                data = json.load(json_file)\n",
    "                for row in data:\n",
    "                    row[\"user_id\"] = file[len(directory) + 1 : -5]\n",
    "                    values = []\n",
    "                    for header in header_list:\n",
    "                        if header in row:\n",
    "                            values.append(row[header])\n",
    "                        else:\n",
    "                            break\n",
    "                    if len(values) == len(header_list):\n",
    "                        writer.writerow(values)"
   ]
  },
  {
   "cell_type": "code",
   "execution_count": 6,
   "id": "0b9605dc",
   "metadata": {},
   "outputs": [],
   "source": [
    "agg_json(\n",
    "    \"Class\",\n",
    "    [\"user_id\", \"course_id\", \"due\", \"experience\", \"hours\", \"location\", \"resp_time\"],\n",
    ")"
   ]
  }
 ],
 "metadata": {
  "kernelspec": {
   "display_name": "base",
   "language": "python",
   "name": "python3"
  },
  "language_info": {
   "codemirror_mode": {
    "name": "ipython",
    "version": 3
   },
   "file_extension": ".py",
   "mimetype": "text/x-python",
   "name": "python",
   "nbconvert_exporter": "python",
   "pygments_lexer": "ipython3",
   "version": "3.12.5"
  }
 },
 "nbformat": 4,
 "nbformat_minor": 5
}
